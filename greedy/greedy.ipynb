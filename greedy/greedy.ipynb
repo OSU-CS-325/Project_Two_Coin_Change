{
 "cells": [
  {
   "cell_type": "markdown",
   "metadata": {},
   "source": [
    "# Greedy"
   ]
  },
  {
   "cell_type": "markdown",
   "metadata": {},
   "source": [
    "## Pseudo-code"
   ]
  },
  {
   "cell_type": "markdown",
   "metadata": {},
   "source": [
    "```\n",
    "GREEDY(coin_array, change)\n",
    "\tcoin_count = [0,...,coin_array.length - 1] = 0 \n",
    "\n",
    "\ti = coin_count.length - 1\n",
    "\n",
    "\twhile change > 0\n",
    "\t\tif change >= coin_array[i]\n",
    "\t\t\tchange -= coin_array[i]\n",
    "\t\t\tcoin_count[i]++\n",
    "\t\telse\n",
    "\t\t\ti--\n",
    "\t\t\n",
    "\treturn coin_count, sum(coin_count[0,...,coin_count.length]) \n",
    "```"
   ]
  },
  {
   "cell_type": "markdown",
   "metadata": {},
   "source": [
    "## Runtime Analysis"
   ]
  },
  {
   "cell_type": "markdown",
   "metadata": {},
   "source": [
    "The algorithm takes two inputs: coinArray and change. The parameter coinArray contains all of the possible denominations of coins that can be used to make change with. The parameter change is the amount of change that needs to be composed of various combinations of coins that are denoted in the coinArray. From this point forward we will refer to the length of the coinArray as $k$ and the value for change as $n$."
   ]
  },
  {
   "cell_type": "markdown",
   "metadata": {},
   "source": [
    "As can be seen from the pseudo-code above we first start with a while-loop that starts with $n=change$ and continues until $n=0$ (until change has been made).  Within that loop each element of coinArray (from largest to smallest, $k-1$ to $0$ is checked against the remaining value of change $n$ to be made and subtracted if possible.  If a given coin is too large to be subtracted from the remaining change, then the next lower coin is attempted.  Because the lowest coin value is guaranteed by the problem statement to have $value=1$, a solution is to the problem is guaranteed."
   ]
  },
  {
   "cell_type": "markdown",
   "metadata": {},
   "source": [
    "The while-loop is the only iterating construct.  But how long does it run?  In the very best case - the highest coin value in coinArray wil be equal to change $n$.  An example might be [1 25 50 100] with $n=100$.  In this case, the loop will run just once for $O(1)$ complexity.  In the worst case - all coin values in coinArray (other than 1) are greater than change $n$.  An example might be [1 25 50 100] with $n=24$."
   ]
  },
  {
   "cell_type": "markdown",
   "metadata": {},
   "source": [
    "In this worst case the while-loop will run $k$ times - once for each value stored in coinArray as it searches for a coin value less than or equal to $n$.  In this case the only coin value that works is $1$ and therefore the while loop will run $n$ times - subtracting off a value of $1$ for each execution of the loop.  This leaves us with a runtime of:\n",
    "\n",
    "$$O(k + n - 1) + O(1)$$"
   ]
  },
  {
   "cell_type": "markdown",
   "metadata": {
    "collapsed": true
   },
   "source": [
    "The $-1$ above is removing double booking of the first subtraction of $value=1$ from $n$ (both at the end of the k \"loop\" and beginning of the n \"loop\").  The constant term $-1$ drops off as well as the $O(1)$ term because the $O(k + n)$ will dominate as $n$ or $k$ become increasingly large. Therefore the finalized runtime of the dynamic programming change making algorithm is:\n",
    "\n",
    "$$O(k + n)$$"
   ]
  },
  {
   "cell_type": "code",
   "execution_count": null,
   "metadata": {
    "collapsed": true
   },
   "outputs": [],
   "source": []
  }
 ],
 "metadata": {
  "kernelspec": {
   "display_name": "Python 3",
   "language": "python",
   "name": "python3"
  },
  "language_info": {
   "codemirror_mode": {
    "name": "ipython",
    "version": 3
   },
   "file_extension": ".py",
   "mimetype": "text/x-python",
   "name": "python",
   "nbconvert_exporter": "python",
   "pygments_lexer": "ipython3",
   "version": "3.5.2"
  }
 },
 "nbformat": 4,
 "nbformat_minor": 0
}
