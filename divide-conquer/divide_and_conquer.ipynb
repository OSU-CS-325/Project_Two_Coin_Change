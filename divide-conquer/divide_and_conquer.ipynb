{
 "cells": [
  {
   "cell_type": "markdown",
   "metadata": {},
   "source": [
    "# Divide and Conquer"
   ]
  },
  {
   "cell_type": "markdown",
   "metadata": {},
   "source": [
    "## Pseudo-code"
   ]
  },
  {
   "cell_type": "markdown",
   "metadata": {},
   "source": [
    "```\n",
    "CHANGE_SLOW(coin_array, change)\n",
    "\tcoin_count = [0,...,coin_array.length - 1] = 0 \n",
    "\n",
    "        if (change exists in coinArray)\n",
    "        \tcoin_count[index of change] = 1\n",
    "        \treturn coin_count, 1\n",
    "        else if (change = 0)\n",
    "        \treturn coin_count, 0\n",
    "        \t\n",
    "       \tmin_coins = infinity\n",
    "       \t\n",
    "       \tfor (i = 1 to change/2)\n",
    "       \t\tcoin_count_left, min_coins_left =\n",
    "                CHANGE_SLOW(coin_array, i) \n",
    "       \t\tcoin_count_right, min_coins_right =\n",
    "                CHANGE_SLOW(coin_array, change - i)\n",
    "       \t\ttotal_coins = min_coins_left + min_coins_right\n",
    "       \t\t\n",
    "       \t\tif total_coins < min_coins:\n",
    "       \t\t\tmin_coins = total_coins\n",
    "       \t\t\t\n",
    "       \t\t\tfor (j in coin_count_left/right)\n",
    "       \t\t\t\tcoin_count =\n",
    "                        coin_count_left[j] + coin_count_right[j]\n",
    "\n",
    "\treturn coin_count, min_coins \n",
    "```"
   ]
  },
  {
   "cell_type": "markdown",
   "metadata": {},
   "source": [
    "## Runtime Analysis"
   ]
  },
  {
   "cell_type": "markdown",
   "metadata": {},
   "source": [
    "The algorithm takes two inputs: coinArray and change. The parameter coinArray contains all of the possible denominations of coins that can be used to make change with. The parameter change is the amount of change that needs to be composed of various combinations of coins that are denoted in the coinArray. From this point forward we will refer to the length of the coinArray as $k$ and the value for change as $n$."
   ]
  },
  {
   "cell_type": "markdown",
   "metadata": {},
   "source": [
    "As can be seen from the pseudo-code above, a for-loop runs from 1 to $n/2$.  Inside this foor loop are two recursive calls to the CHANGE_SLOW function with smaller values of $n$.  The tricky piece is that $n$ is non-uniform - meaning the subproblem sizes and number vary from 1 to $n-1$.  In reality the for-loop simply \"groups\" the recursive calls into sets of two.  The worst-case number of recursive calls for a given value of $n$ is linear with $n$.\n",
    "\n",
    "$$T(n) = T(1) + T(2) + ... + T(\\frac{n}{2}) + T(\\frac{n}{2}) + ... + T(n-1) + T(n) + O(1) \\approx \\sum_{i=1}^{n}T(n) + O(1)$$"
   ]
  },
  {
   "cell_type": "markdown",
   "metadata": {},
   "source": [
    "We note that $T(1)$ is a base case.  We also know that some $T(c)$ are also bases cases where $c$ is a value in coinArray.  So we know that the recursion has a solution.  By definition the sub-problem sizes will decline as we descend deeper into the recursion - but how quickly?  The larger $k$ is relative to $n$ the more likely that coinArray cointains $n$ and the more quickly the solution will be reached.  The opposite also applies.\n",
    "\n",
    "$$\\lim_{k \\to n} Runtime = 1$$ and $$\\lim_{k \\to 0} Runtime = \\infty$$"
   ]
  },
  {
   "cell_type": "markdown",
   "metadata": {},
   "source": [
    " ...  but how to solve ??? ..."
   ]
  }
 ],
 "metadata": {
  "kernelspec": {
   "display_name": "Python 3",
   "language": "python",
   "name": "python3"
  },
  "language_info": {
   "codemirror_mode": {
    "name": "ipython",
    "version": 3
   },
   "file_extension": ".py",
   "mimetype": "text/x-python",
   "name": "python",
   "nbconvert_exporter": "python",
   "pygments_lexer": "ipython3",
   "version": "3.5.2"
  }
 },
 "nbformat": 4,
 "nbformat_minor": 0
}
