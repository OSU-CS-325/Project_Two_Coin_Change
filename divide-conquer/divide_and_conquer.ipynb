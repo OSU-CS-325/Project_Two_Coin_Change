{
 "cells": [
  {
   "cell_type": "markdown",
   "metadata": {},
   "source": [
    "# Divide and Conquer"
   ]
  },
  {
   "cell_type": "markdown",
   "metadata": {},
   "source": [
    "## Pseudo-code"
   ]
  },
  {
   "cell_type": "markdown",
   "metadata": {},
   "source": [
    "```\n",
    "CHANGE_SLOW(coin_array, change)\n",
    "\tcoin_count = [0,...,coin_array.length - 1] = 0 \n",
    "\n",
    "        if (change exists in coinArray)\n",
    "        \tcoin_count[index of change] = 1\n",
    "        \treturn coin_count, 1\n",
    "        else if (change = 0)\n",
    "        \treturn coin_count, 0\n",
    "        \t\n",
    "       \tmin_coins = infinity\n",
    "       \t\n",
    "       \tfor (i = 1 to change/2)\n",
    "       \t\tcoin_count_left, min_coins_left =\n",
    "                CHANGE_SLOW(coin_array, i) \n",
    "       \t\tcoin_count_right, min_coins_right =\n",
    "                CHANGE_SLOW(coin_array, change - i)\n",
    "       \t\ttotal_coins = min_coins_left + min_coins_right\n",
    "       \t\t\n",
    "       \t\tif total_coins < min_coins:\n",
    "       \t\t\tmin_coins = total_coins\n",
    "       \t\t\t\n",
    "       \t\t\tfor (j in coin_count_left/right)\n",
    "       \t\t\t\tcoin_count =\n",
    "                        coin_count_left[j] + coin_count_right[j]\n",
    "\n",
    "\treturn coin_count, min_coins \n",
    "```"
   ]
  },
  {
   "cell_type": "markdown",
   "metadata": {},
   "source": [
    "## Runtime Analysis"
   ]
  },
  {
   "cell_type": "markdown",
   "metadata": {},
   "source": [
    "The algorithm takes two inputs: coinArray and change. The parameter coinArray contains all of the possible denominations of coins that can be used to make change with. The parameter change is the amount of change that needs to be composed of various combinations of coins that are denoted in the coinArray. From this point forward we will refer to the length of the coinArray as $k$ and the value for change as $n$."
   ]
  },
  {
   "cell_type": "markdown",
   "metadata": {},
   "source": [
    "As can be seen from the pseudo-code above, a for-loop runs from 1 to $\\frac{n}{2}$, where this value is assumed to be an integer. Our recurrence is of the form:\n",
    "\n",
    "$$T(n) = \\sum_{i = 1}^{\\frac{n}{2}} \\left( T(n - i) + T(i) \\right)$$"
   ]
  },
  {
   "cell_type": "markdown",
   "metadata": {},
   "source": [
    "The loop only needs to run to $\\frac{n}{2}$ due to the fact that values above $\\frac{n}{2}$ will simply recompute a sum already computed. As an exmpale, consider the case where $n = 5$. When $i=2$, we compute $T(3) + T(2)$. If we continued on to $i=3$, we would compute $T(2) + T(3) \\equiv T(3) + T(2)$."
   ]
  },
  {
   "cell_type": "markdown",
   "metadata": {},
   "source": [
    "While this recurrence is difficult to solve, we can consider the case without our optimization and consider it an upper bound. Consider the recurrence:\n",
    "\n",
    "$$T(n) = \\sum_{i=1}^{n-1} \\left( T(n-i) + T(i) \\right) $$"
   ]
  },
  {
   "cell_type": "markdown",
   "metadata": {},
   "source": [
    "The resulting sum will look like:\n",
    "\n",
    "$$T(n-1) + T(n-2) + \\ldots + T(2) + T(1) + T(1) + T(2) + \\ldots + T(n-2)+T(n-1)$$\n",
    "\n",
    "Which we can see is equivalent to:\n",
    "\n",
    "$$ 2\\cdot(T(n-1) + T(n-2) + \\ldots + T(2) + T(1))$$\n",
    "\n",
    "So, our recurrence can be expressed as:\n",
    "\n",
    "$$ T(n) = 2 \\sum_{i = 1}^{n-1} T(i) $$"
   ]
  },
  {
   "cell_type": "markdown",
   "metadata": {},
   "source": [
    "As an additional step, we note that $T(n-1)$ is:\n",
    "\n",
    "$$T(n-1) = 2\\sum_{i = 1}^{n-2} T(i) $$"
   ]
  },
  {
   "cell_type": "markdown",
   "metadata": {},
   "source": [
    "We can compute the difference between $T(n)$ and $T(n-1)$ as:\n",
    "\n",
    "\\begin{align}\n",
    "T(n) - T(n-1) &= 2 \\sum_{i = 1}^{n-1} T(i) - 2 \\sum_{i = 1}^{n-2} T(i) \\\\\n",
    "&= 2T(n-1)\n",
    "\\end{align}"
   ]
  },
  {
   "cell_type": "markdown",
   "metadata": {},
   "source": [
    "Solving for T(n), we find that:\n",
    "$$T(n) = 3T(n-1)$$"
   ]
  },
  {
   "cell_type": "markdown",
   "metadata": {},
   "source": [
    "By the Muster Theorem, with $a = 3$, $b = 1$, and $d = 0$, we can say that $T(n)$ is $O(3^n)$."
   ]
  }
 ],
 "metadata": {
  "anaconda-cloud": {},
  "kernelspec": {
   "display_name": "Python 3",
   "language": "python",
   "name": "python3"
  },
  "language_info": {
   "codemirror_mode": {
    "name": "ipython",
    "version": 3
   },
   "file_extension": ".py",
   "mimetype": "text/x-python",
   "name": "python",
   "nbconvert_exporter": "python",
   "pygments_lexer": "ipython3",
   "version": "3.5.2"
  }
 },
 "nbformat": 4,
 "nbformat_minor": 0
}
