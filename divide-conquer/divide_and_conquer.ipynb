{
 "cells": [
  {
   "cell_type": "markdown",
   "metadata": {},
   "source": [
    "# Divide and Conquer"
   ]
  },
  {
   "cell_type": "markdown",
   "metadata": {},
   "source": [
    "## Pseudo-code"
   ]
  },
  {
   "cell_type": "markdown",
   "metadata": {},
   "source": [
    "```\n",
    "CHANGE_SLOW(coin_array, change)\n",
    "\tcoin_count = [0,...,coin_array.length - 1] = 0 \n",
    "\n",
    "        if (change exists in coinArray)\n",
    "        \tcoin_count[index of change] = 1\n",
    "        \treturn coin_count, 1\n",
    "        else if (change = 0)\n",
    "        \treturn coin_count, 0\n",
    "        \t\n",
    "       \tmin_coins = infinity\n",
    "       \t\n",
    "       \tfor (i = 1 to change/2)\n",
    "       \t\tcoin_count_left, min_coins_left =\n",
    "                CHANGE_SLOW(coin_array, i) \n",
    "       \t\tcoin_count_right, min_coins_right =\n",
    "                CHANGE_SLOW(coin_array, change - i)\n",
    "       \t\ttotal_coins = min_coins_left + min_coins_right\n",
    "       \t\t\n",
    "       \t\tif total_coins < min_coins:\n",
    "       \t\t\tmin_coins = total_coins\n",
    "       \t\t\t\n",
    "       \t\t\tfor (j in coin_count_left/right)\n",
    "       \t\t\t\tcoin_count =\n",
    "                        coin_count_left[j] + coin_count_right[j]\n",
    "\n",
    "\treturn coin_count, min_coins \n",
    "```"
   ]
  },
  {
   "cell_type": "markdown",
   "metadata": {},
   "source": [
    "## Runtime Analysis"
   ]
  },
  {
   "cell_type": "markdown",
   "metadata": {},
   "source": [
    "The algorithm takes two inputs: coinArray and change. The parameter coinArray contains all of the possible denominations of coins that can be used to make change with. The parameter change is the amount of change that needs to be composed of various combinations of coins that are denoted in the coinArray. From this point forward we will refer to the length of the coinArray as $k$ and the value for change as $n$."
   ]
  }
 ],
 "metadata": {
  "kernelspec": {
   "display_name": "Python 3",
   "language": "python",
   "name": "python3"
  },
  "language_info": {
   "codemirror_mode": {
    "name": "ipython",
    "version": 3
   },
   "file_extension": ".py",
   "mimetype": "text/x-python",
   "name": "python",
   "nbconvert_exporter": "python",
   "pygments_lexer": "ipython3",
   "version": "3.5.2"
  }
 },
 "nbformat": 4,
 "nbformat_minor": 0
}
