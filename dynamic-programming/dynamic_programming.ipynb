{
 "cells": [
  {
   "cell_type": "markdown",
   "metadata": {},
   "source": [
    "# Dynamic Programming"
   ]
  },
  {
   "cell_type": "markdown",
   "metadata": {},
   "source": [
    "## Pseudo-code"
   ]
  },
  {
   "cell_type": "markdown",
   "metadata": {},
   "source": [
    "```\n",
    "CHANGEDP(coin_array, change) {\n",
    "    min_coins_used = [0,...,(change + 1)]\n",
    "    min_coins_count = [0,...,(change + 1)]\n",
    "\n",
    "    for coin in range(0,...,(change + 1)) {\n",
    "        coin_count = coin\n",
    "        latest_coin = 1\n",
    "\n",
    "        for i in [coin_val in coin_array where coin_val <= coin]{\n",
    "            if min_coins_count[coin - i] + 1 < coin_count {\n",
    "                coin_count = min_coins_count[coin - i] + 1\n",
    "                latest_coin = i\n",
    "            }\n",
    "        }\n",
    "        min_coins_count[coin] = coin_count\n",
    "        min_coins_used[coin] = latest_coin\n",
    "    }\n",
    "\n",
    "    min_count = min_coins_count[change]\n",
    "    min_used = []\n",
    "\n",
    "    for k in coin_array {\n",
    "        min_used.append(0)\n",
    "    }\n",
    "\n",
    "    change_iter = change\n",
    "\n",
    "    while change_iter > 0 {\n",
    "        coin_val = min_coins_used[change_iter]\n",
    "        p = 0\n",
    "        for j in coin_array {\n",
    "            if coin_val == j {\n",
    "                min_used[p] += 1\n",
    "            }\n",
    "            p += 1\n",
    "        }\n",
    "        change_iter = change_iter - coin_val\n",
    "    }\n",
    "\n",
    "    return min_used, min_count\n",
    "}\n",
    "```"
   ]
  },
  {
   "cell_type": "markdown",
   "metadata": {},
   "source": [
    "## Runtime Analysis"
   ]
  },
  {
   "cell_type": "markdown",
   "metadata": {},
   "source": [
    "The algorithm takes two inputs: coinArray and change. The parameter coinArray contains all of the possible denominations of coins that can be used to make change with. The parameter change is the amount of change that needs to be composed of various combinations of coins that are denoted in the coinArray. From this point forward we will refer to the length of the coinArray as $k$ and the value for change as $n$."
   ]
  },
  {
   "cell_type": "markdown",
   "metadata": {},
   "source": []
  }
 ],
 "metadata": {
  "kernelspec": {
   "display_name": "Python 2",
   "language": "python",
   "name": "python2"
  },
  "language_info": {
   "codemirror_mode": {
    "name": "ipython",
    "version": 2
   },
   "file_extension": ".py",
   "mimetype": "text/x-python",
   "name": "python",
   "nbconvert_exporter": "python",
   "pygments_lexer": "ipython2",
   "version": "2.7.12"
  }
 },
 "nbformat": 4,
 "nbformat_minor": 0
}
