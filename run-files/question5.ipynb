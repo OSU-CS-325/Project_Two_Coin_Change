{
 "cells": [
  {
   "cell_type": "markdown",
   "metadata": {},
   "source": [
    "# Question 5"
   ]
  },
  {
   "cell_type": "markdown",
   "metadata": {},
   "source": [
    "### V=[1, 2, 4, 6, 8, ..., 30] with A=[2000, 2001, 2002, ..., 2200]"
   ]
  },
  {
   "cell_type": "markdown",
   "metadata": {},
   "source": [
    "<img src=\"img/Q5.png\" />"
   ]
  },
  {
   "cell_type": "markdown",
   "metadata": {},
   "source": [
    "### V=[1, 2, 4, 6, 8, ..., 30] with A=[1, 2, 3, ..., 30]"
   ]
  },
  {
   "cell_type": "markdown",
   "metadata": {},
   "source": [
    "<img src=\"img/Q5_slow.png\" />"
   ]
  },
  {
   "cell_type": "markdown",
   "metadata": {},
   "source": [
    "The plots above suggest that the coin system [1,2,4,6,8,...,30] may be canonical as described in \"Canonical Coin Systems for Change-Making Problems\" by Xuan Cai and Yiyuan Zheng of Shanghai Jiao Tong University.  A coin system is canonical if the number of coins given in change by the greedy algorithm is optimal for all amounts.  **Our observations show that greedy is equal to DP _for all values of A that were plotted_ for this coin system.**"
   ]
  }
 ],
 "metadata": {
  "kernelspec": {
   "display_name": "Python 3",
   "language": "python",
   "name": "python3"
  },
  "language_info": {
   "codemirror_mode": {
    "name": "ipython",
    "version": 3
   },
   "file_extension": ".py",
   "mimetype": "text/x-python",
   "name": "python",
   "nbconvert_exporter": "python",
   "pygments_lexer": "ipython3",
   "version": "3.5.2"
  }
 },
 "nbformat": 4,
 "nbformat_minor": 0
}
