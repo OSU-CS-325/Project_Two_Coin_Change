{
 "cells": [
  {
   "cell_type": "markdown",
   "metadata": {},
   "source": [
    "# Question 7"
   ]
  },
  {
   "cell_type": "markdown",
   "metadata": {},
   "source": [
    "This question requires us to think about running times as a function of the size of the coin array V.  This question is more complex than it first appears because there are a number of different corner cases.  Many of these are dependent upon the relationship between the change value, A, and V."
   ]
  },
  {
   "cell_type": "markdown",
   "metadata": {},
   "source": [
    "Take the case where A = V[len(V)-1].  An example would be A=50 with V=[1,5,10,25,50].  In this case greedy will run in O(1) time because it will take the very first coin it looks at and the problem will be solved.  We could modify the coin array such that V=[1,2,3,...,48,49,50], increasing the size of V by a factor of 10, and have absolutely no effect on the runtime of the greedy algorithm."
   ]
  },
  {
   "cell_type": "markdown",
   "metadata": {},
   "source": [
    "On the opposite end of the spectrum would A=53 with V=[1,5,10,25,50].  In this case, because 53 is a prime nuber, greedy will run in O(V + A) time because the problem can only be solved with 53 copies of the smallest coin (value of 1).  In this case modification of the coin array such that V=[1,2,3,...,48,49,50], increasing the size of V by a factor of 10, will have an effect on the runtime of the greedy algorithm."
   ]
  },
  {
   "cell_type": "markdown",
   "metadata": {},
   "source": [
    "DP and change slow examples here..."
   ]
  },
  {
   "cell_type": "markdown",
   "metadata": {},
   "source": [
    "For the reasons outlined above, the best method of evaluating running times as a function of len(V) is to randomize the both A and the contents of V.  We have run 10 experiments each for varying sizes of V from XX to YY - all experiments randomizing the actual input values.  For each size of V we have averaged the results of the 10 experiments.  This allows us to eliminate some of the impact of corner cases described above."
   ]
  }
 ],
 "metadata": {
  "kernelspec": {
   "display_name": "Python 3",
   "language": "python",
   "name": "python3"
  },
  "language_info": {
   "codemirror_mode": {
    "name": "ipython",
    "version": 3
   },
   "file_extension": ".py",
   "mimetype": "text/x-python",
   "name": "python",
   "nbconvert_exporter": "python",
   "pygments_lexer": "ipython3",
   "version": "3.5.2"
  }
 },
 "nbformat": 4,
 "nbformat_minor": 0
}
