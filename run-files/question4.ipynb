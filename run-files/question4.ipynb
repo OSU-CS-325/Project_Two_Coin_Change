{
 "cells": [
  {
   "cell_type": "markdown",
   "metadata": {},
   "source": [
    "# Question 4"
   ]
  },
  {
   "cell_type": "markdown",
   "metadata": {},
   "source": [
    "### V=[1, 2, 6, 12, 24, 48, 60] with A=[2000, 2001, 2002, ..., 2200]"
   ]
  },
  {
   "cell_type": "markdown",
   "metadata": {},
   "source": [
    "<img src=\"img/Q4a.png\" />"
   ]
  },
  {
   "cell_type": "markdown",
   "metadata": {},
   "source": [
    "### V=[1, 2, 6, 12, 24, 48, 60] with A=[1, 2, 3, ..., 30]"
   ]
  },
  {
   "cell_type": "markdown",
   "metadata": {},
   "source": [
    "<img src=\"img/Q4a_slow.png\" />"
   ]
  },
  {
   "cell_type": "markdown",
   "metadata": {},
   "source": [
    "The plots above suggest that the coin system [1,2,6,12,24,48,60] **IS NOT** canonical as described in \"Canonical Coin Systems for Change-Making Problems\" by Xuan Cai and Yiyuan Zheng of Shanghai Jiao Tong University.  A coin system is canonical if the number of coins given in change by the greedy algorithm is optimal for all amounts.  **Our observations show that greedy is NOT equal to DP _for all values of A that were plotted_ for this coin system.**  There are multiple values of A between 2000 and 2200 for which greedy is sub-optimal. "
   ]
  },
  {
   "cell_type": "markdown",
   "metadata": {},
   "source": [
    "### V=[1, 6, 13, 37, 150] with A=[2000, 2001, 2002, ..., 2200]"
   ]
  },
  {
   "cell_type": "markdown",
   "metadata": {},
   "source": [
    "<img src=\"img/Q4b.png\" />"
   ]
  },
  {
   "cell_type": "markdown",
   "metadata": {},
   "source": [
    "### V=[1, 6, 13, 37, 150] with A=[1, 2, 3, ..., 30]"
   ]
  },
  {
   "cell_type": "markdown",
   "metadata": {},
   "source": [
    "<img src=\"img/Q4b_slow.png\" />"
   ]
  },
  {
   "cell_type": "markdown",
   "metadata": {},
   "source": [
    "The plots above suggest that the coin system [1,6,13,37,150] **IS NOT** canonical as described in \"Canonical Coin Systems for Change-Making Problems\" by Xuan Cai and Yiyuan Zheng of Shanghai Jiao Tong University.  A coin system is canonical if the number of coins given in change by the greedy algorithm is optimal for all amounts.  **Our observations show that greedy is NOT equal to DP _for all values of A that were plotted_ for this coin system.**  There are multiple values of A between 1 and 30 and between 2000 and 2200 for which greedy is sub-optimal. "
   ]
  }
 ],
 "metadata": {
  "kernelspec": {
   "display_name": "Python 2",
   "language": "python",
   "name": "python2"
  },
  "language_info": {
   "codemirror_mode": {
    "name": "ipython",
    "version": 2
   },
   "file_extension": ".py",
   "mimetype": "text/x-python",
   "name": "python",
   "nbconvert_exporter": "python",
   "pygments_lexer": "ipython2",
   "version": "2.7.12"
  }
 },
 "nbformat": 4,
 "nbformat_minor": 0
}
